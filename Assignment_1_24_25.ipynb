{
  "cells": [
    {
      "cell_type": "markdown",
      "metadata": {
        "id": "JV5YbbVNlCLl"
      },
      "source": [
        "# Avanced Automation - Assignment 1\n",
        "\n",
        "To be delivered until 2024-12-06 23:59:59.\n",
        "\n",
        "**Submission Notes**:\n",
        "- You should use Google Colab for the assignment.\n",
        "- After running the entire notebook (including graphs and outputs), save the notebook as a .pdf file, by going to File - Print - Destination: Save as PDF.\n",
        "- Create a .zip file containing both the .ipynb file (the notebook itself) and the .pdf and submit it in Fénix."
      ]
    },
    {
      "cell_type": "markdown",
      "metadata": {
        "id": "A746fsNRldR4"
      },
      "source": [
        "## Section 1 -- Linear Regression\n",
        "\n",
        "**1.** Consider a dataset with 100 observations, containing a single predictor and a quantitative response. Two different models are fitted to the data, a linear regression ($m_1: Y = \\beta_0 + \\beta_1 X + \\epsilon$) and a cubic regression ($m_2: Y = \\beta_0 + \\beta_1 X + \\beta_2 X^2 + \\beta_3 X^3 + \\epsilon$)."
      ]
    },
    {
      "cell_type": "markdown",
      "metadata": {
        "id": "gOuCfx3sm8hZ"
      },
      "source": [
        "**1.a)** Suppose that the actual relation between X and Y is linear. Can the **training** residual sum of squares (RSS) of the linear model be expected to be smaller, larger or equal to the one from the cubic model? Or is there no information to tell? Justify your answer."
      ]
    },
    {
      "cell_type": "markdown",
      "metadata": {
        "id": "w34r8by1mAHo"
      },
      "source": [
        "The real relationship is linear. A cubic model can adapt to a linear relation, finding a potential solution that minimises the error more than the cubic model, but this would be overfitting."
      ]
    },
    {
      "cell_type": "markdown",
      "metadata": {
        "id": "f-Z6e3nem88s"
      },
      "source": [
        "**1.2** Answer question 1.a) considering the test RSS rather than the training RSS."
      ]
    },
    {
      "cell_type": "markdown",
      "metadata": {
        "id": "CxI1RG-MmAHo"
      },
      "source": [
        "\n",
        "Here the linear model would have the lowest RSS. Because the cubic model would be overfitted to the random noise of the training data, it would not accurately describe the relationship with new data.\n",
        "\n",
        "\n"
      ]
    },
    {
      "cell_type": "markdown",
      "metadata": {
        "id": "gmhX35ckm9St"
      },
      "source": [
        "**1.3** Suppose that the actual relationship between X and Y is not linear, but it is not known how far it is from being linear. What is it expected of the the **training** RSS for the linear compared with the cubic models? Or is there not enough information? Justify your answer."
      ]
    },
    {
      "cell_type": "markdown",
      "metadata": {
        "id": "4JfRXunWmAHp"
      },
      "source": [
        "The cubic model will more accurately describe the relation, because it is more flexible."
      ]
    },
    {
      "cell_type": "markdown",
      "metadata": {
        "id": "68b9Gt-Sm9lp"
      },
      "source": [
        "**1.4** Answer question 1.c) considering the test RSS rather than the training RSS."
      ]
    },
    {
      "cell_type": "markdown",
      "metadata": {
        "id": "iPL1mAkOmAHp"
      },
      "source": [
        "There is not enough information to know how accurate the relation can be described with the cubic model, as opposed to the linear model, without knowing more about the complexity of the relationship."
      ]
    },
    {
      "cell_type": "markdown",
      "metadata": {
        "id": "JBXTb1uemAHp"
      },
      "source": [
        "**2.** Consider now a dataset of measurements of physical measurements of crabs in the Boston area."
      ]
    },
    {
      "cell_type": "markdown",
      "metadata": {
        "id": "nTV6fkH0mAHp"
      },
      "source": [
        "The dataset has the following variables:\n",
        "- `sex` - Sex of the crab, either male (M), female (F) or indeterminate (I).\n",
        "- `length` - Length of the crab (in feet)\n",
        "- `diameter` - Diameter of the crab (in feet)\n",
        "- `height` - Height of the crab (in feet)\n",
        "- `weight` - Weight of the crab (in ounces)\n",
        "- `shucked_weight` - Weight without the shell (in ounces)\n",
        "- `viscera_weight` - Weight of internal organs (in ounces)\n",
        "- `shell_weight` - Weight of the shell (in ounces)\n",
        "- `age` - Age of the crab (in months)"
      ]
    },
    {
      "cell_type": "markdown",
      "metadata": {
        "id": "JlY6gihzHUm5"
      },
      "source": [
        "**2.1** Load the dataset `crab_data.csv`."
      ]
    },
    {
      "cell_type": "code",
      "source": [
        "from google.colab import drive\n",
        "drive.mount('/content/drive')"
      ],
      "metadata": {
        "colab": {
          "base_uri": "https://localhost:8080/",
          "height": 0
        },
        "id": "mhVNlCTdnjF_",
        "outputId": "5ebdcfde-904d-42e9-9700-3a5272794315"
      },
      "execution_count": 3,
      "outputs": [
        {
          "output_type": "stream",
          "name": "stdout",
          "text": [
            "Drive already mounted at /content/drive; to attempt to forcibly remount, call drive.mount(\"/content/drive\", force_remount=True).\n"
          ]
        }
      ]
    },
    {
      "cell_type": "code",
      "source": [
        "import pandas as pd\n",
        "df=pd.read_csv(\"/content/drive/MyDrive/crab_data.csv\")\n",
        "df.head()"
      ],
      "metadata": {
        "colab": {
          "base_uri": "https://localhost:8080/",
          "height": 206
        },
        "id": "v2KVGfdTn0nf",
        "outputId": "e32af789-13a5-4aa3-a7bb-e4b9686f50f5"
      },
      "execution_count": 42,
      "outputs": [
        {
          "output_type": "execute_result",
          "data": {
            "text/plain": [
              "  sex  length  diameter  height     weight  shucked_weight  viscera_weight  \\\n",
              "0   F  1.4375    1.1750  0.4125  24.635715       12.332033        5.584852   \n",
              "1   M  0.8875    0.6500  0.2125   5.400580        2.296310        1.374951   \n",
              "2   I  1.0375    0.7750  0.2500   7.952035        3.231843        1.601747   \n",
              "3   F  1.1750    0.8875  0.2500  13.480187        4.748541        2.282135   \n",
              "4   I  0.8875    0.6625  0.2125   6.903103        3.458639        1.488349   \n",
              "\n",
              "   shell_weight  age  \n",
              "0      6.747181    9  \n",
              "1      1.559222    6  \n",
              "2      2.764076    6  \n",
              "3      5.244657   10  \n",
              "4      1.700970    6  "
            ],
            "text/html": [
              "\n",
              "  <div id=\"df-5bdd6bfd-84dd-44a8-9fe0-25ce57c6a770\" class=\"colab-df-container\">\n",
              "    <div>\n",
              "<style scoped>\n",
              "    .dataframe tbody tr th:only-of-type {\n",
              "        vertical-align: middle;\n",
              "    }\n",
              "\n",
              "    .dataframe tbody tr th {\n",
              "        vertical-align: top;\n",
              "    }\n",
              "\n",
              "    .dataframe thead th {\n",
              "        text-align: right;\n",
              "    }\n",
              "</style>\n",
              "<table border=\"1\" class=\"dataframe\">\n",
              "  <thead>\n",
              "    <tr style=\"text-align: right;\">\n",
              "      <th></th>\n",
              "      <th>sex</th>\n",
              "      <th>length</th>\n",
              "      <th>diameter</th>\n",
              "      <th>height</th>\n",
              "      <th>weight</th>\n",
              "      <th>shucked_weight</th>\n",
              "      <th>viscera_weight</th>\n",
              "      <th>shell_weight</th>\n",
              "      <th>age</th>\n",
              "    </tr>\n",
              "  </thead>\n",
              "  <tbody>\n",
              "    <tr>\n",
              "      <th>0</th>\n",
              "      <td>F</td>\n",
              "      <td>1.4375</td>\n",
              "      <td>1.1750</td>\n",
              "      <td>0.4125</td>\n",
              "      <td>24.635715</td>\n",
              "      <td>12.332033</td>\n",
              "      <td>5.584852</td>\n",
              "      <td>6.747181</td>\n",
              "      <td>9</td>\n",
              "    </tr>\n",
              "    <tr>\n",
              "      <th>1</th>\n",
              "      <td>M</td>\n",
              "      <td>0.8875</td>\n",
              "      <td>0.6500</td>\n",
              "      <td>0.2125</td>\n",
              "      <td>5.400580</td>\n",
              "      <td>2.296310</td>\n",
              "      <td>1.374951</td>\n",
              "      <td>1.559222</td>\n",
              "      <td>6</td>\n",
              "    </tr>\n",
              "    <tr>\n",
              "      <th>2</th>\n",
              "      <td>I</td>\n",
              "      <td>1.0375</td>\n",
              "      <td>0.7750</td>\n",
              "      <td>0.2500</td>\n",
              "      <td>7.952035</td>\n",
              "      <td>3.231843</td>\n",
              "      <td>1.601747</td>\n",
              "      <td>2.764076</td>\n",
              "      <td>6</td>\n",
              "    </tr>\n",
              "    <tr>\n",
              "      <th>3</th>\n",
              "      <td>F</td>\n",
              "      <td>1.1750</td>\n",
              "      <td>0.8875</td>\n",
              "      <td>0.2500</td>\n",
              "      <td>13.480187</td>\n",
              "      <td>4.748541</td>\n",
              "      <td>2.282135</td>\n",
              "      <td>5.244657</td>\n",
              "      <td>10</td>\n",
              "    </tr>\n",
              "    <tr>\n",
              "      <th>4</th>\n",
              "      <td>I</td>\n",
              "      <td>0.8875</td>\n",
              "      <td>0.6625</td>\n",
              "      <td>0.2125</td>\n",
              "      <td>6.903103</td>\n",
              "      <td>3.458639</td>\n",
              "      <td>1.488349</td>\n",
              "      <td>1.700970</td>\n",
              "      <td>6</td>\n",
              "    </tr>\n",
              "  </tbody>\n",
              "</table>\n",
              "</div>\n",
              "    <div class=\"colab-df-buttons\">\n",
              "\n",
              "  <div class=\"colab-df-container\">\n",
              "    <button class=\"colab-df-convert\" onclick=\"convertToInteractive('df-5bdd6bfd-84dd-44a8-9fe0-25ce57c6a770')\"\n",
              "            title=\"Convert this dataframe to an interactive table.\"\n",
              "            style=\"display:none;\">\n",
              "\n",
              "  <svg xmlns=\"http://www.w3.org/2000/svg\" height=\"24px\" viewBox=\"0 -960 960 960\">\n",
              "    <path d=\"M120-120v-720h720v720H120Zm60-500h600v-160H180v160Zm220 220h160v-160H400v160Zm0 220h160v-160H400v160ZM180-400h160v-160H180v160Zm440 0h160v-160H620v160ZM180-180h160v-160H180v160Zm440 0h160v-160H620v160Z\"/>\n",
              "  </svg>\n",
              "    </button>\n",
              "\n",
              "  <style>\n",
              "    .colab-df-container {\n",
              "      display:flex;\n",
              "      gap: 12px;\n",
              "    }\n",
              "\n",
              "    .colab-df-convert {\n",
              "      background-color: #E8F0FE;\n",
              "      border: none;\n",
              "      border-radius: 50%;\n",
              "      cursor: pointer;\n",
              "      display: none;\n",
              "      fill: #1967D2;\n",
              "      height: 32px;\n",
              "      padding: 0 0 0 0;\n",
              "      width: 32px;\n",
              "    }\n",
              "\n",
              "    .colab-df-convert:hover {\n",
              "      background-color: #E2EBFA;\n",
              "      box-shadow: 0px 1px 2px rgba(60, 64, 67, 0.3), 0px 1px 3px 1px rgba(60, 64, 67, 0.15);\n",
              "      fill: #174EA6;\n",
              "    }\n",
              "\n",
              "    .colab-df-buttons div {\n",
              "      margin-bottom: 4px;\n",
              "    }\n",
              "\n",
              "    [theme=dark] .colab-df-convert {\n",
              "      background-color: #3B4455;\n",
              "      fill: #D2E3FC;\n",
              "    }\n",
              "\n",
              "    [theme=dark] .colab-df-convert:hover {\n",
              "      background-color: #434B5C;\n",
              "      box-shadow: 0px 1px 3px 1px rgba(0, 0, 0, 0.15);\n",
              "      filter: drop-shadow(0px 1px 2px rgba(0, 0, 0, 0.3));\n",
              "      fill: #FFFFFF;\n",
              "    }\n",
              "  </style>\n",
              "\n",
              "    <script>\n",
              "      const buttonEl =\n",
              "        document.querySelector('#df-5bdd6bfd-84dd-44a8-9fe0-25ce57c6a770 button.colab-df-convert');\n",
              "      buttonEl.style.display =\n",
              "        google.colab.kernel.accessAllowed ? 'block' : 'none';\n",
              "\n",
              "      async function convertToInteractive(key) {\n",
              "        const element = document.querySelector('#df-5bdd6bfd-84dd-44a8-9fe0-25ce57c6a770');\n",
              "        const dataTable =\n",
              "          await google.colab.kernel.invokeFunction('convertToInteractive',\n",
              "                                                    [key], {});\n",
              "        if (!dataTable) return;\n",
              "\n",
              "        const docLinkHtml = 'Like what you see? Visit the ' +\n",
              "          '<a target=\"_blank\" href=https://colab.research.google.com/notebooks/data_table.ipynb>data table notebook</a>'\n",
              "          + ' to learn more about interactive tables.';\n",
              "        element.innerHTML = '';\n",
              "        dataTable['output_type'] = 'display_data';\n",
              "        await google.colab.output.renderOutput(dataTable, element);\n",
              "        const docLink = document.createElement('div');\n",
              "        docLink.innerHTML = docLinkHtml;\n",
              "        element.appendChild(docLink);\n",
              "      }\n",
              "    </script>\n",
              "  </div>\n",
              "\n",
              "\n",
              "<div id=\"df-f9a84a77-6d8b-4888-8bca-60b92fb454b7\">\n",
              "  <button class=\"colab-df-quickchart\" onclick=\"quickchart('df-f9a84a77-6d8b-4888-8bca-60b92fb454b7')\"\n",
              "            title=\"Suggest charts\"\n",
              "            style=\"display:none;\">\n",
              "\n",
              "<svg xmlns=\"http://www.w3.org/2000/svg\" height=\"24px\"viewBox=\"0 0 24 24\"\n",
              "     width=\"24px\">\n",
              "    <g>\n",
              "        <path d=\"M19 3H5c-1.1 0-2 .9-2 2v14c0 1.1.9 2 2 2h14c1.1 0 2-.9 2-2V5c0-1.1-.9-2-2-2zM9 17H7v-7h2v7zm4 0h-2V7h2v10zm4 0h-2v-4h2v4z\"/>\n",
              "    </g>\n",
              "</svg>\n",
              "  </button>\n",
              "\n",
              "<style>\n",
              "  .colab-df-quickchart {\n",
              "      --bg-color: #E8F0FE;\n",
              "      --fill-color: #1967D2;\n",
              "      --hover-bg-color: #E2EBFA;\n",
              "      --hover-fill-color: #174EA6;\n",
              "      --disabled-fill-color: #AAA;\n",
              "      --disabled-bg-color: #DDD;\n",
              "  }\n",
              "\n",
              "  [theme=dark] .colab-df-quickchart {\n",
              "      --bg-color: #3B4455;\n",
              "      --fill-color: #D2E3FC;\n",
              "      --hover-bg-color: #434B5C;\n",
              "      --hover-fill-color: #FFFFFF;\n",
              "      --disabled-bg-color: #3B4455;\n",
              "      --disabled-fill-color: #666;\n",
              "  }\n",
              "\n",
              "  .colab-df-quickchart {\n",
              "    background-color: var(--bg-color);\n",
              "    border: none;\n",
              "    border-radius: 50%;\n",
              "    cursor: pointer;\n",
              "    display: none;\n",
              "    fill: var(--fill-color);\n",
              "    height: 32px;\n",
              "    padding: 0;\n",
              "    width: 32px;\n",
              "  }\n",
              "\n",
              "  .colab-df-quickchart:hover {\n",
              "    background-color: var(--hover-bg-color);\n",
              "    box-shadow: 0 1px 2px rgba(60, 64, 67, 0.3), 0 1px 3px 1px rgba(60, 64, 67, 0.15);\n",
              "    fill: var(--button-hover-fill-color);\n",
              "  }\n",
              "\n",
              "  .colab-df-quickchart-complete:disabled,\n",
              "  .colab-df-quickchart-complete:disabled:hover {\n",
              "    background-color: var(--disabled-bg-color);\n",
              "    fill: var(--disabled-fill-color);\n",
              "    box-shadow: none;\n",
              "  }\n",
              "\n",
              "  .colab-df-spinner {\n",
              "    border: 2px solid var(--fill-color);\n",
              "    border-color: transparent;\n",
              "    border-bottom-color: var(--fill-color);\n",
              "    animation:\n",
              "      spin 1s steps(1) infinite;\n",
              "  }\n",
              "\n",
              "  @keyframes spin {\n",
              "    0% {\n",
              "      border-color: transparent;\n",
              "      border-bottom-color: var(--fill-color);\n",
              "      border-left-color: var(--fill-color);\n",
              "    }\n",
              "    20% {\n",
              "      border-color: transparent;\n",
              "      border-left-color: var(--fill-color);\n",
              "      border-top-color: var(--fill-color);\n",
              "    }\n",
              "    30% {\n",
              "      border-color: transparent;\n",
              "      border-left-color: var(--fill-color);\n",
              "      border-top-color: var(--fill-color);\n",
              "      border-right-color: var(--fill-color);\n",
              "    }\n",
              "    40% {\n",
              "      border-color: transparent;\n",
              "      border-right-color: var(--fill-color);\n",
              "      border-top-color: var(--fill-color);\n",
              "    }\n",
              "    60% {\n",
              "      border-color: transparent;\n",
              "      border-right-color: var(--fill-color);\n",
              "    }\n",
              "    80% {\n",
              "      border-color: transparent;\n",
              "      border-right-color: var(--fill-color);\n",
              "      border-bottom-color: var(--fill-color);\n",
              "    }\n",
              "    90% {\n",
              "      border-color: transparent;\n",
              "      border-bottom-color: var(--fill-color);\n",
              "    }\n",
              "  }\n",
              "</style>\n",
              "\n",
              "  <script>\n",
              "    async function quickchart(key) {\n",
              "      const quickchartButtonEl =\n",
              "        document.querySelector('#' + key + ' button');\n",
              "      quickchartButtonEl.disabled = true;  // To prevent multiple clicks.\n",
              "      quickchartButtonEl.classList.add('colab-df-spinner');\n",
              "      try {\n",
              "        const charts = await google.colab.kernel.invokeFunction(\n",
              "            'suggestCharts', [key], {});\n",
              "      } catch (error) {\n",
              "        console.error('Error during call to suggestCharts:', error);\n",
              "      }\n",
              "      quickchartButtonEl.classList.remove('colab-df-spinner');\n",
              "      quickchartButtonEl.classList.add('colab-df-quickchart-complete');\n",
              "    }\n",
              "    (() => {\n",
              "      let quickchartButtonEl =\n",
              "        document.querySelector('#df-f9a84a77-6d8b-4888-8bca-60b92fb454b7 button');\n",
              "      quickchartButtonEl.style.display =\n",
              "        google.colab.kernel.accessAllowed ? 'block' : 'none';\n",
              "    })();\n",
              "  </script>\n",
              "</div>\n",
              "\n",
              "    </div>\n",
              "  </div>\n"
            ],
            "application/vnd.google.colaboratory.intrinsic+json": {
              "type": "dataframe",
              "variable_name": "df",
              "summary": "{\n  \"name\": \"df\",\n  \"rows\": 3893,\n  \"fields\": [\n    {\n      \"column\": \"sex\",\n      \"properties\": {\n        \"dtype\": \"category\",\n        \"num_unique_values\": 3,\n        \"samples\": [\n          \"F\",\n          \"M\",\n          \"I\"\n        ],\n        \"semantic_type\": \"\",\n        \"description\": \"\"\n      }\n    },\n    {\n      \"column\": \"length\",\n      \"properties\": {\n        \"dtype\": \"number\",\n        \"std\": 0.3004306265291026,\n        \"min\": 0.1875,\n        \"max\": 2.0375,\n        \"num_unique_values\": 134,\n        \"samples\": [\n          0.425,\n          1.3875,\n          1.95\n        ],\n        \"semantic_type\": \"\",\n        \"description\": \"\"\n      }\n    },\n    {\n      \"column\": \"diameter\",\n      \"properties\": {\n        \"dtype\": \"number\",\n        \"std\": 0.24823267263710916,\n        \"min\": 0.1375,\n        \"max\": 1.625,\n        \"num_unique_values\": 111,\n        \"samples\": [\n          0.2625,\n          0.5375,\n          0.6625\n        ],\n        \"semantic_type\": \"\",\n        \"description\": \"\"\n      }\n    },\n    {\n      \"column\": \"height\",\n      \"properties\": {\n        \"dtype\": \"number\",\n        \"std\": 0.10497623681720551,\n        \"min\": 0.0,\n        \"max\": 2.825,\n        \"num_unique_values\": 51,\n        \"samples\": [\n          0.625,\n          0.0625,\n          0.0375\n        ],\n        \"semantic_type\": \"\",\n        \"description\": \"\"\n      }\n    },\n    {\n      \"column\": \"weight\",\n      \"properties\": {\n        \"dtype\": \"number\",\n        \"std\": 13.891200699787808,\n        \"min\": 0.056699,\n        \"max\": 80.10151225,\n        \"num_unique_values\": 2343,\n        \"samples\": [\n          51.21337175,\n          5.8116475,\n          27.51318975\n        ],\n        \"semantic_type\": \"\",\n        \"description\": \"\"\n      }\n    },\n    {\n      \"column\": \"shucked_weight\",\n      \"properties\": {\n        \"dtype\": \"number\",\n        \"std\": 6.275274673353859,\n        \"min\": 0.0283495,\n        \"max\": 42.184056,\n        \"num_unique_values\": 1482,\n        \"samples\": [\n          1.360776,\n          12.03436275,\n          1.530873\n        ],\n        \"semantic_type\": \"\",\n        \"description\": \"\"\n      }\n    },\n    {\n      \"column\": \"viscera_weight\",\n      \"properties\": {\n        \"dtype\": \"number\",\n        \"std\": 3.1041330844028505,\n        \"min\": 0.01417475,\n        \"max\": 21.54562,\n        \"num_unique_values\": 867,\n        \"samples\": [\n          2.9199985,\n          10.999606,\n          1.68679525\n        ],\n        \"semantic_type\": \"\",\n        \"description\": \"\"\n      }\n    },\n    {\n      \"column\": \"shell_weight\",\n      \"properties\": {\n        \"dtype\": \"number\",\n        \"std\": 3.943391661220588,\n        \"min\": 0.04252425,\n        \"max\": 28.4912475,\n        \"num_unique_values\": 907,\n        \"samples\": [\n          8.4765005,\n          0.8221355,\n          5.00368675\n        ],\n        \"semantic_type\": \"\",\n        \"description\": \"\"\n      }\n    },\n    {\n      \"column\": \"age\",\n      \"properties\": {\n        \"dtype\": \"number\",\n        \"std\": 3,\n        \"min\": 1,\n        \"max\": 29,\n        \"num_unique_values\": 28,\n        \"samples\": [\n          5,\n          29,\n          12\n        ],\n        \"semantic_type\": \"\",\n        \"description\": \"\"\n      }\n    }\n  ]\n}"
            }
          },
          "metadata": {},
          "execution_count": 42
        }
      ]
    },
    {
      "cell_type": "markdown",
      "metadata": {
        "id": "p9h_CM5kmAHr"
      },
      "source": [
        "**2.2** Check if the dataset has missing values. If so, discard any row that has a missing value."
      ]
    },
    {
      "cell_type": "code",
      "execution_count": 10,
      "metadata": {
        "colab": {
          "base_uri": "https://localhost:8080/",
          "height": 0
        },
        "id": "T2qh4LXvmAHr",
        "outputId": "97f6e181-4746-4099-b919-afc7ed8f86da"
      },
      "outputs": [
        {
          "output_type": "execute_result",
          "data": {
            "text/plain": [
              "False"
            ]
          },
          "metadata": {},
          "execution_count": 10
        }
      ],
      "source": [
        "df.isnull().values.any()"
      ]
    },
    {
      "cell_type": "markdown",
      "metadata": {
        "id": "_ae6cJzqmAHr"
      },
      "source": [
        "**2.3** How many crabs of indeterminate sex are older than 15 months?"
      ]
    },
    {
      "cell_type": "code",
      "execution_count": 11,
      "metadata": {
        "colab": {
          "base_uri": "https://localhost:8080/",
          "height": 0
        },
        "id": "38KUaM2UmAHr",
        "outputId": "03b5ba45-034b-4200-8fd3-6b445c6f4ee9"
      },
      "outputs": [
        {
          "output_type": "stream",
          "name": "stdout",
          "text": [
            "21\n"
          ]
        }
      ],
      "source": [
        "crab_ages = df['age']\n",
        "crab_sexes = df['sex']\n",
        "counter = 0\n",
        "\n",
        "for i in range(len(crab_ages)):\n",
        "  if crab_ages[i] > 15 and crab_sexes[i] == 'I':\n",
        "    counter += 1\n",
        "\n",
        "print(counter)"
      ]
    },
    {
      "cell_type": "markdown",
      "metadata": {
        "id": "cnNrKePjmAHr"
      },
      "source": [
        "**2.4** Plot a correlation matrix of the numerical columns (with a statistical significance of 0.1%)."
      ]
    },
    {
      "cell_type": "code",
      "execution_count": 12,
      "metadata": {
        "colab": {
          "base_uri": "https://localhost:8080/",
          "height": 300
        },
        "id": "0Sh7gO6SmAHr",
        "outputId": "948be5ed-defe-4421-a4e1-c922aa24cfed"
      },
      "outputs": [
        {
          "output_type": "execute_result",
          "data": {
            "text/plain": [
              "                  length  diameter    height    weight  shucked_weight  \\\n",
              "length          1.000000  0.986653  0.823081  0.925374        0.898181   \n",
              "diameter        0.986653  1.000000  0.829532  0.925770        0.893626   \n",
              "height          0.823081  0.829532  1.000000  0.814405        0.770961   \n",
              "weight          0.925374  0.925770  0.814405  1.000000        0.969077   \n",
              "shucked_weight  0.898181  0.893626  0.770961  0.969077        1.000000   \n",
              "viscera_weight  0.903253  0.899810  0.793272  0.965583        0.931280   \n",
              "shell_weight    0.897736  0.905561  0.812290  0.955269        0.882406   \n",
              "age             0.554973  0.573844  0.551956  0.538819        0.418760   \n",
              "\n",
              "                viscera_weight  shell_weight       age  \n",
              "length                0.903253      0.897736  0.554973  \n",
              "diameter              0.899810      0.905561  0.573844  \n",
              "height                0.793272      0.812290  0.551956  \n",
              "weight                0.965583      0.955269  0.538819  \n",
              "shucked_weight        0.931280      0.882406  0.418760  \n",
              "viscera_weight        1.000000      0.906105  0.501328  \n",
              "shell_weight          0.906105      1.000000  0.625195  \n",
              "age                   0.501328      0.625195  1.000000  "
            ],
            "text/html": [
              "\n",
              "  <div id=\"df-4921478d-6852-4721-9d69-502c0bf15cf4\" class=\"colab-df-container\">\n",
              "    <div>\n",
              "<style scoped>\n",
              "    .dataframe tbody tr th:only-of-type {\n",
              "        vertical-align: middle;\n",
              "    }\n",
              "\n",
              "    .dataframe tbody tr th {\n",
              "        vertical-align: top;\n",
              "    }\n",
              "\n",
              "    .dataframe thead th {\n",
              "        text-align: right;\n",
              "    }\n",
              "</style>\n",
              "<table border=\"1\" class=\"dataframe\">\n",
              "  <thead>\n",
              "    <tr style=\"text-align: right;\">\n",
              "      <th></th>\n",
              "      <th>length</th>\n",
              "      <th>diameter</th>\n",
              "      <th>height</th>\n",
              "      <th>weight</th>\n",
              "      <th>shucked_weight</th>\n",
              "      <th>viscera_weight</th>\n",
              "      <th>shell_weight</th>\n",
              "      <th>age</th>\n",
              "    </tr>\n",
              "  </thead>\n",
              "  <tbody>\n",
              "    <tr>\n",
              "      <th>length</th>\n",
              "      <td>1.000000</td>\n",
              "      <td>0.986653</td>\n",
              "      <td>0.823081</td>\n",
              "      <td>0.925374</td>\n",
              "      <td>0.898181</td>\n",
              "      <td>0.903253</td>\n",
              "      <td>0.897736</td>\n",
              "      <td>0.554973</td>\n",
              "    </tr>\n",
              "    <tr>\n",
              "      <th>diameter</th>\n",
              "      <td>0.986653</td>\n",
              "      <td>1.000000</td>\n",
              "      <td>0.829532</td>\n",
              "      <td>0.925770</td>\n",
              "      <td>0.893626</td>\n",
              "      <td>0.899810</td>\n",
              "      <td>0.905561</td>\n",
              "      <td>0.573844</td>\n",
              "    </tr>\n",
              "    <tr>\n",
              "      <th>height</th>\n",
              "      <td>0.823081</td>\n",
              "      <td>0.829532</td>\n",
              "      <td>1.000000</td>\n",
              "      <td>0.814405</td>\n",
              "      <td>0.770961</td>\n",
              "      <td>0.793272</td>\n",
              "      <td>0.812290</td>\n",
              "      <td>0.551956</td>\n",
              "    </tr>\n",
              "    <tr>\n",
              "      <th>weight</th>\n",
              "      <td>0.925374</td>\n",
              "      <td>0.925770</td>\n",
              "      <td>0.814405</td>\n",
              "      <td>1.000000</td>\n",
              "      <td>0.969077</td>\n",
              "      <td>0.965583</td>\n",
              "      <td>0.955269</td>\n",
              "      <td>0.538819</td>\n",
              "    </tr>\n",
              "    <tr>\n",
              "      <th>shucked_weight</th>\n",
              "      <td>0.898181</td>\n",
              "      <td>0.893626</td>\n",
              "      <td>0.770961</td>\n",
              "      <td>0.969077</td>\n",
              "      <td>1.000000</td>\n",
              "      <td>0.931280</td>\n",
              "      <td>0.882406</td>\n",
              "      <td>0.418760</td>\n",
              "    </tr>\n",
              "    <tr>\n",
              "      <th>viscera_weight</th>\n",
              "      <td>0.903253</td>\n",
              "      <td>0.899810</td>\n",
              "      <td>0.793272</td>\n",
              "      <td>0.965583</td>\n",
              "      <td>0.931280</td>\n",
              "      <td>1.000000</td>\n",
              "      <td>0.906105</td>\n",
              "      <td>0.501328</td>\n",
              "    </tr>\n",
              "    <tr>\n",
              "      <th>shell_weight</th>\n",
              "      <td>0.897736</td>\n",
              "      <td>0.905561</td>\n",
              "      <td>0.812290</td>\n",
              "      <td>0.955269</td>\n",
              "      <td>0.882406</td>\n",
              "      <td>0.906105</td>\n",
              "      <td>1.000000</td>\n",
              "      <td>0.625195</td>\n",
              "    </tr>\n",
              "    <tr>\n",
              "      <th>age</th>\n",
              "      <td>0.554973</td>\n",
              "      <td>0.573844</td>\n",
              "      <td>0.551956</td>\n",
              "      <td>0.538819</td>\n",
              "      <td>0.418760</td>\n",
              "      <td>0.501328</td>\n",
              "      <td>0.625195</td>\n",
              "      <td>1.000000</td>\n",
              "    </tr>\n",
              "  </tbody>\n",
              "</table>\n",
              "</div>\n",
              "    <div class=\"colab-df-buttons\">\n",
              "\n",
              "  <div class=\"colab-df-container\">\n",
              "    <button class=\"colab-df-convert\" onclick=\"convertToInteractive('df-4921478d-6852-4721-9d69-502c0bf15cf4')\"\n",
              "            title=\"Convert this dataframe to an interactive table.\"\n",
              "            style=\"display:none;\">\n",
              "\n",
              "  <svg xmlns=\"http://www.w3.org/2000/svg\" height=\"24px\" viewBox=\"0 -960 960 960\">\n",
              "    <path d=\"M120-120v-720h720v720H120Zm60-500h600v-160H180v160Zm220 220h160v-160H400v160Zm0 220h160v-160H400v160ZM180-400h160v-160H180v160Zm440 0h160v-160H620v160ZM180-180h160v-160H180v160Zm440 0h160v-160H620v160Z\"/>\n",
              "  </svg>\n",
              "    </button>\n",
              "\n",
              "  <style>\n",
              "    .colab-df-container {\n",
              "      display:flex;\n",
              "      gap: 12px;\n",
              "    }\n",
              "\n",
              "    .colab-df-convert {\n",
              "      background-color: #E8F0FE;\n",
              "      border: none;\n",
              "      border-radius: 50%;\n",
              "      cursor: pointer;\n",
              "      display: none;\n",
              "      fill: #1967D2;\n",
              "      height: 32px;\n",
              "      padding: 0 0 0 0;\n",
              "      width: 32px;\n",
              "    }\n",
              "\n",
              "    .colab-df-convert:hover {\n",
              "      background-color: #E2EBFA;\n",
              "      box-shadow: 0px 1px 2px rgba(60, 64, 67, 0.3), 0px 1px 3px 1px rgba(60, 64, 67, 0.15);\n",
              "      fill: #174EA6;\n",
              "    }\n",
              "\n",
              "    .colab-df-buttons div {\n",
              "      margin-bottom: 4px;\n",
              "    }\n",
              "\n",
              "    [theme=dark] .colab-df-convert {\n",
              "      background-color: #3B4455;\n",
              "      fill: #D2E3FC;\n",
              "    }\n",
              "\n",
              "    [theme=dark] .colab-df-convert:hover {\n",
              "      background-color: #434B5C;\n",
              "      box-shadow: 0px 1px 3px 1px rgba(0, 0, 0, 0.15);\n",
              "      filter: drop-shadow(0px 1px 2px rgba(0, 0, 0, 0.3));\n",
              "      fill: #FFFFFF;\n",
              "    }\n",
              "  </style>\n",
              "\n",
              "    <script>\n",
              "      const buttonEl =\n",
              "        document.querySelector('#df-4921478d-6852-4721-9d69-502c0bf15cf4 button.colab-df-convert');\n",
              "      buttonEl.style.display =\n",
              "        google.colab.kernel.accessAllowed ? 'block' : 'none';\n",
              "\n",
              "      async function convertToInteractive(key) {\n",
              "        const element = document.querySelector('#df-4921478d-6852-4721-9d69-502c0bf15cf4');\n",
              "        const dataTable =\n",
              "          await google.colab.kernel.invokeFunction('convertToInteractive',\n",
              "                                                    [key], {});\n",
              "        if (!dataTable) return;\n",
              "\n",
              "        const docLinkHtml = 'Like what you see? Visit the ' +\n",
              "          '<a target=\"_blank\" href=https://colab.research.google.com/notebooks/data_table.ipynb>data table notebook</a>'\n",
              "          + ' to learn more about interactive tables.';\n",
              "        element.innerHTML = '';\n",
              "        dataTable['output_type'] = 'display_data';\n",
              "        await google.colab.output.renderOutput(dataTable, element);\n",
              "        const docLink = document.createElement('div');\n",
              "        docLink.innerHTML = docLinkHtml;\n",
              "        element.appendChild(docLink);\n",
              "      }\n",
              "    </script>\n",
              "  </div>\n",
              "\n",
              "\n",
              "<div id=\"df-30345b94-6c96-4559-8c22-8f1c2579e4b4\">\n",
              "  <button class=\"colab-df-quickchart\" onclick=\"quickchart('df-30345b94-6c96-4559-8c22-8f1c2579e4b4')\"\n",
              "            title=\"Suggest charts\"\n",
              "            style=\"display:none;\">\n",
              "\n",
              "<svg xmlns=\"http://www.w3.org/2000/svg\" height=\"24px\"viewBox=\"0 0 24 24\"\n",
              "     width=\"24px\">\n",
              "    <g>\n",
              "        <path d=\"M19 3H5c-1.1 0-2 .9-2 2v14c0 1.1.9 2 2 2h14c1.1 0 2-.9 2-2V5c0-1.1-.9-2-2-2zM9 17H7v-7h2v7zm4 0h-2V7h2v10zm4 0h-2v-4h2v4z\"/>\n",
              "    </g>\n",
              "</svg>\n",
              "  </button>\n",
              "\n",
              "<style>\n",
              "  .colab-df-quickchart {\n",
              "      --bg-color: #E8F0FE;\n",
              "      --fill-color: #1967D2;\n",
              "      --hover-bg-color: #E2EBFA;\n",
              "      --hover-fill-color: #174EA6;\n",
              "      --disabled-fill-color: #AAA;\n",
              "      --disabled-bg-color: #DDD;\n",
              "  }\n",
              "\n",
              "  [theme=dark] .colab-df-quickchart {\n",
              "      --bg-color: #3B4455;\n",
              "      --fill-color: #D2E3FC;\n",
              "      --hover-bg-color: #434B5C;\n",
              "      --hover-fill-color: #FFFFFF;\n",
              "      --disabled-bg-color: #3B4455;\n",
              "      --disabled-fill-color: #666;\n",
              "  }\n",
              "\n",
              "  .colab-df-quickchart {\n",
              "    background-color: var(--bg-color);\n",
              "    border: none;\n",
              "    border-radius: 50%;\n",
              "    cursor: pointer;\n",
              "    display: none;\n",
              "    fill: var(--fill-color);\n",
              "    height: 32px;\n",
              "    padding: 0;\n",
              "    width: 32px;\n",
              "  }\n",
              "\n",
              "  .colab-df-quickchart:hover {\n",
              "    background-color: var(--hover-bg-color);\n",
              "    box-shadow: 0 1px 2px rgba(60, 64, 67, 0.3), 0 1px 3px 1px rgba(60, 64, 67, 0.15);\n",
              "    fill: var(--button-hover-fill-color);\n",
              "  }\n",
              "\n",
              "  .colab-df-quickchart-complete:disabled,\n",
              "  .colab-df-quickchart-complete:disabled:hover {\n",
              "    background-color: var(--disabled-bg-color);\n",
              "    fill: var(--disabled-fill-color);\n",
              "    box-shadow: none;\n",
              "  }\n",
              "\n",
              "  .colab-df-spinner {\n",
              "    border: 2px solid var(--fill-color);\n",
              "    border-color: transparent;\n",
              "    border-bottom-color: var(--fill-color);\n",
              "    animation:\n",
              "      spin 1s steps(1) infinite;\n",
              "  }\n",
              "\n",
              "  @keyframes spin {\n",
              "    0% {\n",
              "      border-color: transparent;\n",
              "      border-bottom-color: var(--fill-color);\n",
              "      border-left-color: var(--fill-color);\n",
              "    }\n",
              "    20% {\n",
              "      border-color: transparent;\n",
              "      border-left-color: var(--fill-color);\n",
              "      border-top-color: var(--fill-color);\n",
              "    }\n",
              "    30% {\n",
              "      border-color: transparent;\n",
              "      border-left-color: var(--fill-color);\n",
              "      border-top-color: var(--fill-color);\n",
              "      border-right-color: var(--fill-color);\n",
              "    }\n",
              "    40% {\n",
              "      border-color: transparent;\n",
              "      border-right-color: var(--fill-color);\n",
              "      border-top-color: var(--fill-color);\n",
              "    }\n",
              "    60% {\n",
              "      border-color: transparent;\n",
              "      border-right-color: var(--fill-color);\n",
              "    }\n",
              "    80% {\n",
              "      border-color: transparent;\n",
              "      border-right-color: var(--fill-color);\n",
              "      border-bottom-color: var(--fill-color);\n",
              "    }\n",
              "    90% {\n",
              "      border-color: transparent;\n",
              "      border-bottom-color: var(--fill-color);\n",
              "    }\n",
              "  }\n",
              "</style>\n",
              "\n",
              "  <script>\n",
              "    async function quickchart(key) {\n",
              "      const quickchartButtonEl =\n",
              "        document.querySelector('#' + key + ' button');\n",
              "      quickchartButtonEl.disabled = true;  // To prevent multiple clicks.\n",
              "      quickchartButtonEl.classList.add('colab-df-spinner');\n",
              "      try {\n",
              "        const charts = await google.colab.kernel.invokeFunction(\n",
              "            'suggestCharts', [key], {});\n",
              "      } catch (error) {\n",
              "        console.error('Error during call to suggestCharts:', error);\n",
              "      }\n",
              "      quickchartButtonEl.classList.remove('colab-df-spinner');\n",
              "      quickchartButtonEl.classList.add('colab-df-quickchart-complete');\n",
              "    }\n",
              "    (() => {\n",
              "      let quickchartButtonEl =\n",
              "        document.querySelector('#df-30345b94-6c96-4559-8c22-8f1c2579e4b4 button');\n",
              "      quickchartButtonEl.style.display =\n",
              "        google.colab.kernel.accessAllowed ? 'block' : 'none';\n",
              "    })();\n",
              "  </script>\n",
              "</div>\n",
              "\n",
              "    </div>\n",
              "  </div>\n"
            ],
            "application/vnd.google.colaboratory.intrinsic+json": {
              "type": "dataframe",
              "summary": "{\n  \"name\": \"num_df\",\n  \"rows\": 8,\n  \"fields\": [\n    {\n      \"column\": \"length\",\n      \"properties\": {\n        \"dtype\": \"number\",\n        \"std\": 0.1401935735695557,\n        \"min\": 0.5549732839723363,\n        \"max\": 1.0,\n        \"num_unique_values\": 8,\n        \"samples\": [\n          0.9866531860756335,\n          0.9032527745390658,\n          1.0\n        ],\n        \"semantic_type\": \"\",\n        \"description\": \"\"\n      }\n    },\n    {\n      \"column\": \"diameter\",\n      \"properties\": {\n        \"dtype\": \"number\",\n        \"std\": 0.1337909931340787,\n        \"min\": 0.573844316441006,\n        \"max\": 1.0,\n        \"num_unique_values\": 8,\n        \"samples\": [\n          1.0,\n          0.8998103105008156,\n          0.9866531860756335\n        ],\n        \"semantic_type\": \"\",\n        \"description\": \"\"\n      }\n    },\n    {\n      \"column\": \"height\",\n      \"properties\": {\n        \"dtype\": \"number\",\n        \"std\": 0.12199241507989018,\n        \"min\": 0.5519563592563625,\n        \"max\": 1.0,\n        \"num_unique_values\": 8,\n        \"samples\": [\n          0.8295315359597236,\n          0.7932717314064509,\n          0.8230809761569641\n        ],\n        \"semantic_type\": \"\",\n        \"description\": \"\"\n      }\n    },\n    {\n      \"column\": \"weight\",\n      \"properties\": {\n        \"dtype\": \"number\",\n        \"std\": 0.15109913936936017,\n        \"min\": 0.5388194354367469,\n        \"max\": 1.0,\n        \"num_unique_values\": 8,\n        \"samples\": [\n          0.925769700265049,\n          0.9655833428265618,\n          0.9253735217310095\n        ],\n        \"semantic_type\": \"\",\n        \"description\": \"\"\n      }\n    },\n    {\n      \"column\": \"shucked_weight\",\n      \"properties\": {\n        \"dtype\": \"number\",\n        \"std\": 0.18540164427300942,\n        \"min\": 0.4187597726019079,\n        \"max\": 1.0,\n        \"num_unique_values\": 8,\n        \"samples\": [\n          0.8936257124622282,\n          0.9312795563371258,\n          0.8981806601417086\n        ],\n        \"semantic_type\": \"\",\n        \"description\": \"\"\n      }\n    },\n    {\n      \"column\": \"viscera_weight\",\n      \"properties\": {\n        \"dtype\": \"number\",\n        \"std\": 0.15786755347958234,\n        \"min\": 0.501327773804192,\n        \"max\": 1.0,\n        \"num_unique_values\": 8,\n        \"samples\": [\n          0.8998103105008156,\n          1.0,\n          0.9032527745390658\n        ],\n        \"semantic_type\": \"\",\n        \"description\": \"\"\n      }\n    },\n    {\n      \"column\": \"shell_weight\",\n      \"properties\": {\n        \"dtype\": \"number\",\n        \"std\": 0.11392141655409412,\n        \"min\": 0.6251949936969264,\n        \"max\": 1.0,\n        \"num_unique_values\": 8,\n        \"samples\": [\n          0.9055611122611759,\n          0.9061046986608301,\n          0.8977362718345843\n        ],\n        \"semantic_type\": \"\",\n        \"description\": \"\"\n      }\n    },\n    {\n      \"column\": \"age\",\n      \"properties\": {\n        \"dtype\": \"number\",\n        \"std\": 0.17395712989989684,\n        \"min\": 0.4187597726019079,\n        \"max\": 1.0,\n        \"num_unique_values\": 8,\n        \"samples\": [\n          0.573844316441006,\n          0.501327773804192,\n          0.5549732839723363\n        ],\n        \"semantic_type\": \"\",\n        \"description\": \"\"\n      }\n    }\n  ]\n}"
            }
          },
          "metadata": {},
          "execution_count": 12
        }
      ],
      "source": [
        "num_df = df.select_dtypes(include=['float64', 'int64'])\n",
        "num_df.corr()"
      ]
    },
    {
      "cell_type": "markdown",
      "metadata": {
        "id": "Md6HGzIumAHr"
      },
      "source": [
        "**2.5** Split the data into test and training datasets.\n",
        "Consider a test dataset comprised of 30% of the whole dataset."
      ]
    },
    {
      "cell_type": "code",
      "execution_count": 13,
      "metadata": {
        "colab": {
          "base_uri": "https://localhost:8080/",
          "height": 206
        },
        "id": "7ZudnzuQmAHr",
        "outputId": "d4077e70-680b-45bb-e8ab-a5c09abb2641"
      },
      "outputs": [
        {
          "output_type": "execute_result",
          "data": {
            "text/plain": [
              "      length  diameter  height     weight  shucked_weight  viscera_weight  \\\n",
              "2402  1.6000    1.3125  0.4375  39.179009       18.313777        8.830869   \n",
              "1053  1.3000    1.0125  0.3500  23.175716        7.923685        5.187958   \n",
              "3232  1.2250    0.8875  0.3875  27.810859       13.182517        5.712424   \n",
              "22    0.9250    0.6875  0.2375   7.285821        2.877474        1.559222   \n",
              "1745  0.8375    0.6500  0.2125   5.443104        2.749901        0.850485   \n",
              "\n",
              "      shell_weight  age  \n",
              "2402     10.489315    9  \n",
              "1053      7.370870   17  \n",
              "3232      7.101550    8  \n",
              "22        2.338834    6  \n",
              "1745      1.530873    6  "
            ],
            "text/html": [
              "\n",
              "  <div id=\"df-46465ce3-e3e7-4d38-8d0d-6bd7297c1fd7\" class=\"colab-df-container\">\n",
              "    <div>\n",
              "<style scoped>\n",
              "    .dataframe tbody tr th:only-of-type {\n",
              "        vertical-align: middle;\n",
              "    }\n",
              "\n",
              "    .dataframe tbody tr th {\n",
              "        vertical-align: top;\n",
              "    }\n",
              "\n",
              "    .dataframe thead th {\n",
              "        text-align: right;\n",
              "    }\n",
              "</style>\n",
              "<table border=\"1\" class=\"dataframe\">\n",
              "  <thead>\n",
              "    <tr style=\"text-align: right;\">\n",
              "      <th></th>\n",
              "      <th>length</th>\n",
              "      <th>diameter</th>\n",
              "      <th>height</th>\n",
              "      <th>weight</th>\n",
              "      <th>shucked_weight</th>\n",
              "      <th>viscera_weight</th>\n",
              "      <th>shell_weight</th>\n",
              "      <th>age</th>\n",
              "    </tr>\n",
              "  </thead>\n",
              "  <tbody>\n",
              "    <tr>\n",
              "      <th>2402</th>\n",
              "      <td>1.6000</td>\n",
              "      <td>1.3125</td>\n",
              "      <td>0.4375</td>\n",
              "      <td>39.179009</td>\n",
              "      <td>18.313777</td>\n",
              "      <td>8.830869</td>\n",
              "      <td>10.489315</td>\n",
              "      <td>9</td>\n",
              "    </tr>\n",
              "    <tr>\n",
              "      <th>1053</th>\n",
              "      <td>1.3000</td>\n",
              "      <td>1.0125</td>\n",
              "      <td>0.3500</td>\n",
              "      <td>23.175716</td>\n",
              "      <td>7.923685</td>\n",
              "      <td>5.187958</td>\n",
              "      <td>7.370870</td>\n",
              "      <td>17</td>\n",
              "    </tr>\n",
              "    <tr>\n",
              "      <th>3232</th>\n",
              "      <td>1.2250</td>\n",
              "      <td>0.8875</td>\n",
              "      <td>0.3875</td>\n",
              "      <td>27.810859</td>\n",
              "      <td>13.182517</td>\n",
              "      <td>5.712424</td>\n",
              "      <td>7.101550</td>\n",
              "      <td>8</td>\n",
              "    </tr>\n",
              "    <tr>\n",
              "      <th>22</th>\n",
              "      <td>0.9250</td>\n",
              "      <td>0.6875</td>\n",
              "      <td>0.2375</td>\n",
              "      <td>7.285821</td>\n",
              "      <td>2.877474</td>\n",
              "      <td>1.559222</td>\n",
              "      <td>2.338834</td>\n",
              "      <td>6</td>\n",
              "    </tr>\n",
              "    <tr>\n",
              "      <th>1745</th>\n",
              "      <td>0.8375</td>\n",
              "      <td>0.6500</td>\n",
              "      <td>0.2125</td>\n",
              "      <td>5.443104</td>\n",
              "      <td>2.749901</td>\n",
              "      <td>0.850485</td>\n",
              "      <td>1.530873</td>\n",
              "      <td>6</td>\n",
              "    </tr>\n",
              "  </tbody>\n",
              "</table>\n",
              "</div>\n",
              "    <div class=\"colab-df-buttons\">\n",
              "\n",
              "  <div class=\"colab-df-container\">\n",
              "    <button class=\"colab-df-convert\" onclick=\"convertToInteractive('df-46465ce3-e3e7-4d38-8d0d-6bd7297c1fd7')\"\n",
              "            title=\"Convert this dataframe to an interactive table.\"\n",
              "            style=\"display:none;\">\n",
              "\n",
              "  <svg xmlns=\"http://www.w3.org/2000/svg\" height=\"24px\" viewBox=\"0 -960 960 960\">\n",
              "    <path d=\"M120-120v-720h720v720H120Zm60-500h600v-160H180v160Zm220 220h160v-160H400v160Zm0 220h160v-160H400v160ZM180-400h160v-160H180v160Zm440 0h160v-160H620v160ZM180-180h160v-160H180v160Zm440 0h160v-160H620v160Z\"/>\n",
              "  </svg>\n",
              "    </button>\n",
              "\n",
              "  <style>\n",
              "    .colab-df-container {\n",
              "      display:flex;\n",
              "      gap: 12px;\n",
              "    }\n",
              "\n",
              "    .colab-df-convert {\n",
              "      background-color: #E8F0FE;\n",
              "      border: none;\n",
              "      border-radius: 50%;\n",
              "      cursor: pointer;\n",
              "      display: none;\n",
              "      fill: #1967D2;\n",
              "      height: 32px;\n",
              "      padding: 0 0 0 0;\n",
              "      width: 32px;\n",
              "    }\n",
              "\n",
              "    .colab-df-convert:hover {\n",
              "      background-color: #E2EBFA;\n",
              "      box-shadow: 0px 1px 2px rgba(60, 64, 67, 0.3), 0px 1px 3px 1px rgba(60, 64, 67, 0.15);\n",
              "      fill: #174EA6;\n",
              "    }\n",
              "\n",
              "    .colab-df-buttons div {\n",
              "      margin-bottom: 4px;\n",
              "    }\n",
              "\n",
              "    [theme=dark] .colab-df-convert {\n",
              "      background-color: #3B4455;\n",
              "      fill: #D2E3FC;\n",
              "    }\n",
              "\n",
              "    [theme=dark] .colab-df-convert:hover {\n",
              "      background-color: #434B5C;\n",
              "      box-shadow: 0px 1px 3px 1px rgba(0, 0, 0, 0.15);\n",
              "      filter: drop-shadow(0px 1px 2px rgba(0, 0, 0, 0.3));\n",
              "      fill: #FFFFFF;\n",
              "    }\n",
              "  </style>\n",
              "\n",
              "    <script>\n",
              "      const buttonEl =\n",
              "        document.querySelector('#df-46465ce3-e3e7-4d38-8d0d-6bd7297c1fd7 button.colab-df-convert');\n",
              "      buttonEl.style.display =\n",
              "        google.colab.kernel.accessAllowed ? 'block' : 'none';\n",
              "\n",
              "      async function convertToInteractive(key) {\n",
              "        const element = document.querySelector('#df-46465ce3-e3e7-4d38-8d0d-6bd7297c1fd7');\n",
              "        const dataTable =\n",
              "          await google.colab.kernel.invokeFunction('convertToInteractive',\n",
              "                                                    [key], {});\n",
              "        if (!dataTable) return;\n",
              "\n",
              "        const docLinkHtml = 'Like what you see? Visit the ' +\n",
              "          '<a target=\"_blank\" href=https://colab.research.google.com/notebooks/data_table.ipynb>data table notebook</a>'\n",
              "          + ' to learn more about interactive tables.';\n",
              "        element.innerHTML = '';\n",
              "        dataTable['output_type'] = 'display_data';\n",
              "        await google.colab.output.renderOutput(dataTable, element);\n",
              "        const docLink = document.createElement('div');\n",
              "        docLink.innerHTML = docLinkHtml;\n",
              "        element.appendChild(docLink);\n",
              "      }\n",
              "    </script>\n",
              "  </div>\n",
              "\n",
              "\n",
              "<div id=\"df-08495ca4-bfc6-48b5-8b4e-238b656a9011\">\n",
              "  <button class=\"colab-df-quickchart\" onclick=\"quickchart('df-08495ca4-bfc6-48b5-8b4e-238b656a9011')\"\n",
              "            title=\"Suggest charts\"\n",
              "            style=\"display:none;\">\n",
              "\n",
              "<svg xmlns=\"http://www.w3.org/2000/svg\" height=\"24px\"viewBox=\"0 0 24 24\"\n",
              "     width=\"24px\">\n",
              "    <g>\n",
              "        <path d=\"M19 3H5c-1.1 0-2 .9-2 2v14c0 1.1.9 2 2 2h14c1.1 0 2-.9 2-2V5c0-1.1-.9-2-2-2zM9 17H7v-7h2v7zm4 0h-2V7h2v10zm4 0h-2v-4h2v4z\"/>\n",
              "    </g>\n",
              "</svg>\n",
              "  </button>\n",
              "\n",
              "<style>\n",
              "  .colab-df-quickchart {\n",
              "      --bg-color: #E8F0FE;\n",
              "      --fill-color: #1967D2;\n",
              "      --hover-bg-color: #E2EBFA;\n",
              "      --hover-fill-color: #174EA6;\n",
              "      --disabled-fill-color: #AAA;\n",
              "      --disabled-bg-color: #DDD;\n",
              "  }\n",
              "\n",
              "  [theme=dark] .colab-df-quickchart {\n",
              "      --bg-color: #3B4455;\n",
              "      --fill-color: #D2E3FC;\n",
              "      --hover-bg-color: #434B5C;\n",
              "      --hover-fill-color: #FFFFFF;\n",
              "      --disabled-bg-color: #3B4455;\n",
              "      --disabled-fill-color: #666;\n",
              "  }\n",
              "\n",
              "  .colab-df-quickchart {\n",
              "    background-color: var(--bg-color);\n",
              "    border: none;\n",
              "    border-radius: 50%;\n",
              "    cursor: pointer;\n",
              "    display: none;\n",
              "    fill: var(--fill-color);\n",
              "    height: 32px;\n",
              "    padding: 0;\n",
              "    width: 32px;\n",
              "  }\n",
              "\n",
              "  .colab-df-quickchart:hover {\n",
              "    background-color: var(--hover-bg-color);\n",
              "    box-shadow: 0 1px 2px rgba(60, 64, 67, 0.3), 0 1px 3px 1px rgba(60, 64, 67, 0.15);\n",
              "    fill: var(--button-hover-fill-color);\n",
              "  }\n",
              "\n",
              "  .colab-df-quickchart-complete:disabled,\n",
              "  .colab-df-quickchart-complete:disabled:hover {\n",
              "    background-color: var(--disabled-bg-color);\n",
              "    fill: var(--disabled-fill-color);\n",
              "    box-shadow: none;\n",
              "  }\n",
              "\n",
              "  .colab-df-spinner {\n",
              "    border: 2px solid var(--fill-color);\n",
              "    border-color: transparent;\n",
              "    border-bottom-color: var(--fill-color);\n",
              "    animation:\n",
              "      spin 1s steps(1) infinite;\n",
              "  }\n",
              "\n",
              "  @keyframes spin {\n",
              "    0% {\n",
              "      border-color: transparent;\n",
              "      border-bottom-color: var(--fill-color);\n",
              "      border-left-color: var(--fill-color);\n",
              "    }\n",
              "    20% {\n",
              "      border-color: transparent;\n",
              "      border-left-color: var(--fill-color);\n",
              "      border-top-color: var(--fill-color);\n",
              "    }\n",
              "    30% {\n",
              "      border-color: transparent;\n",
              "      border-left-color: var(--fill-color);\n",
              "      border-top-color: var(--fill-color);\n",
              "      border-right-color: var(--fill-color);\n",
              "    }\n",
              "    40% {\n",
              "      border-color: transparent;\n",
              "      border-right-color: var(--fill-color);\n",
              "      border-top-color: var(--fill-color);\n",
              "    }\n",
              "    60% {\n",
              "      border-color: transparent;\n",
              "      border-right-color: var(--fill-color);\n",
              "    }\n",
              "    80% {\n",
              "      border-color: transparent;\n",
              "      border-right-color: var(--fill-color);\n",
              "      border-bottom-color: var(--fill-color);\n",
              "    }\n",
              "    90% {\n",
              "      border-color: transparent;\n",
              "      border-bottom-color: var(--fill-color);\n",
              "    }\n",
              "  }\n",
              "</style>\n",
              "\n",
              "  <script>\n",
              "    async function quickchart(key) {\n",
              "      const quickchartButtonEl =\n",
              "        document.querySelector('#' + key + ' button');\n",
              "      quickchartButtonEl.disabled = true;  // To prevent multiple clicks.\n",
              "      quickchartButtonEl.classList.add('colab-df-spinner');\n",
              "      try {\n",
              "        const charts = await google.colab.kernel.invokeFunction(\n",
              "            'suggestCharts', [key], {});\n",
              "      } catch (error) {\n",
              "        console.error('Error during call to suggestCharts:', error);\n",
              "      }\n",
              "      quickchartButtonEl.classList.remove('colab-df-spinner');\n",
              "      quickchartButtonEl.classList.add('colab-df-quickchart-complete');\n",
              "    }\n",
              "    (() => {\n",
              "      let quickchartButtonEl =\n",
              "        document.querySelector('#df-08495ca4-bfc6-48b5-8b4e-238b656a9011 button');\n",
              "      quickchartButtonEl.style.display =\n",
              "        google.colab.kernel.accessAllowed ? 'block' : 'none';\n",
              "    })();\n",
              "  </script>\n",
              "</div>\n",
              "\n",
              "    </div>\n",
              "  </div>\n"
            ],
            "application/vnd.google.colaboratory.intrinsic+json": {
              "type": "dataframe",
              "variable_name": "crab_train",
              "summary": "{\n  \"name\": \"crab_train\",\n  \"rows\": 2725,\n  \"fields\": [\n    {\n      \"column\": \"length\",\n      \"properties\": {\n        \"dtype\": \"number\",\n        \"std\": 0.2991849900372958,\n        \"min\": 0.275,\n        \"max\": 2.0375,\n        \"num_unique_values\": 130,\n        \"samples\": [\n          0.7125,\n          1.7375,\n          1.3125\n        ],\n        \"semantic_type\": \"\",\n        \"description\": \"\"\n      }\n    },\n    {\n      \"column\": \"diameter\",\n      \"properties\": {\n        \"dtype\": \"number\",\n        \"std\": 0.24790492010437196,\n        \"min\": 0.225,\n        \"max\": 1.625,\n        \"num_unique_values\": 107,\n        \"samples\": [\n          0.525,\n          0.7,\n          0.65\n        ],\n        \"semantic_type\": \"\",\n        \"description\": \"\"\n      }\n    },\n    {\n      \"column\": \"height\",\n      \"properties\": {\n        \"dtype\": \"number\",\n        \"std\": 0.10840265859482821,\n        \"min\": 0.0,\n        \"max\": 2.825,\n        \"num_unique_values\": 48,\n        \"samples\": [\n          0.3625,\n          1.2875,\n          0.1\n        ],\n        \"semantic_type\": \"\",\n        \"description\": \"\"\n      }\n    },\n    {\n      \"column\": \"weight\",\n      \"properties\": {\n        \"dtype\": \"number\",\n        \"std\": 13.946685540161207,\n        \"min\": 0.226796,\n        \"max\": 80.10151225,\n        \"num_unique_values\": 1881,\n        \"samples\": [\n          32.36095425,\n          50.61803225,\n          44.55123925\n        ],\n        \"semantic_type\": \"\",\n        \"description\": \"\"\n      }\n    },\n    {\n      \"column\": \"shucked_weight\",\n      \"properties\": {\n        \"dtype\": \"number\",\n        \"std\": 6.26066777599195,\n        \"min\": 0.07087375,\n        \"max\": 42.184056,\n        \"num_unique_values\": 1308,\n        \"samples\": [\n          1.37495075,\n          19.03668925,\n          11.0279555\n        ],\n        \"semantic_type\": \"\",\n        \"description\": \"\"\n      }\n    },\n    {\n      \"column\": \"viscera_weight\",\n      \"properties\": {\n        \"dtype\": \"number\",\n        \"std\": 3.1202228039139333,\n        \"min\": 0.056699,\n        \"max\": 21.54562,\n        \"num_unique_values\": 816,\n        \"samples\": [\n          6.973977,\n          4.32329875,\n          14.18892475\n        ],\n        \"semantic_type\": \"\",\n        \"description\": \"\"\n      }\n    },\n    {\n      \"column\": \"shell_weight\",\n      \"properties\": {\n        \"dtype\": \"number\",\n        \"std\": 3.984971099945481,\n        \"min\": 0.0850485,\n        \"max\": 25.4295015,\n        \"num_unique_values\": 786,\n        \"samples\": [\n          18.200379,\n          8.788345,\n          12.82814875\n        ],\n        \"semantic_type\": \"\",\n        \"description\": \"\"\n      }\n    },\n    {\n      \"column\": \"age\",\n      \"properties\": {\n        \"dtype\": \"number\",\n        \"std\": 3,\n        \"min\": 3,\n        \"max\": 27,\n        \"num_unique_values\": 25,\n        \"samples\": [\n          11,\n          20,\n          9\n        ],\n        \"semantic_type\": \"\",\n        \"description\": \"\"\n      }\n    }\n  ]\n}"
            }
          },
          "metadata": {},
          "execution_count": 13
        }
      ],
      "source": [
        "import numpy as np\n",
        "from sklearn.model_selection import train_test_split\n",
        "\n",
        "crab_train, crab_test = train_test_split(\n",
        "    num_df, test_size=0.30, random_state=42)\n",
        "crab_train.head()"
      ]
    },
    {
      "cell_type": "markdown",
      "metadata": {
        "id": "BM90R_i8OCik"
      },
      "source": [
        "**2.6** Perform a simple linear regression to predict the `age` with a single predictor.\n",
        "Explain why you chose the predictor.\n",
        "\n",
        "Print the obtained model and the $R^2$ on the train and test datasets.\n"
      ]
    },
    {
      "cell_type": "code",
      "execution_count": 14,
      "metadata": {
        "id": "0lfq1PEbmAHr"
      },
      "outputs": [],
      "source": [
        "from sklearn.linear_model import LinearRegression\n",
        "\n",
        "X_train = pd.DataFrame(crab_train['shell_weight'])\n",
        "y_train = pd.DataFrame(crab_train['age'])\n",
        "\n",
        "X_test = pd.DataFrame(crab_test['shell_weight'])\n",
        "y_test = pd.DataFrame(crab_test['age'])\n"
      ]
    },
    {
      "cell_type": "code",
      "source": [
        "reg = LinearRegression().fit(X_train, y_train)\n",
        "\n",
        "print(reg)\n",
        "print(reg.score(X_train, y_train))\n",
        "print(reg.score(X_test, y_test))"
      ],
      "metadata": {
        "colab": {
          "base_uri": "https://localhost:8080/",
          "height": 0
        },
        "id": "v0K2Tpo7utAR",
        "outputId": "522b1d9d-e857-4fcd-a8e9-30ea64bc434f"
      },
      "execution_count": 15,
      "outputs": [
        {
          "output_type": "stream",
          "name": "stdout",
          "text": [
            "LinearRegression()\n",
            "0.39529125966223677\n",
            "0.37896141262386795\n"
          ]
        }
      ]
    },
    {
      "cell_type": "markdown",
      "metadata": {
        "id": "yRYL0_TeQQfp"
      },
      "source": [
        "**2.7** Plot a scatter plot of the response and predictor, along with the regression line.\n",
        "Distinguish between the points in the train and test datasets."
      ]
    },
    {
      "cell_type": "code",
      "execution_count": 16,
      "metadata": {
        "id": "0mZOhTCvmAHr",
        "colab": {
          "base_uri": "https://localhost:8080/",
          "height": 564
        },
        "outputId": "7cf97738-cb5b-47e2-e29b-7bd6ab2312e9"
      },
      "outputs": [
        {
          "output_type": "display_data",
          "data": {
            "text/plain": [
              "<Figure size 1000x600 with 1 Axes>"
            ],
            "image/png": "[encoded data removed]"
          },
          "metadata": {}
        }
      ],
      "source": [
        "import matplotlib.pyplot as plt\n",
        "\n",
        "plt.figure(figsize=(10, 6))\n",
        "plt.scatter(X_train, y_train, color='blue', label='Train data', alpha=0.6)\n",
        "plt.scatter(X_test, y_test, color='red', label='Test data', alpha=0.6)\n",
        "plt.plot(X_train, reg.predict(X_train), color='black', linewidth=2, label='Regression line') #Not sure if this should be done on the training or the test data\n",
        "\n",
        "plt.title('Scatterplot of shell_weight vs age with regression line')\n",
        "plt.xlabel('Shell Weight')\n",
        "plt.ylabel('Age')\n",
        "plt.legend()\n",
        "plt.grid(True)\n",
        "plt.show()"
      ]
    },
    {
      "cell_type": "markdown",
      "metadata": {
        "id": "7FmujUDHmAHr"
      },
      "source": [
        "**2.8** Perform a multiple linear regression considering `age` as the response and using all numerical predictors.\n",
        "Compare the $R^2$ of the simple linear regression model and the multiple linear regression model."
      ]
    },
    {
      "cell_type": "code",
      "execution_count": 17,
      "metadata": {
        "id": "yPJLyFOUmAHs",
        "colab": {
          "base_uri": "https://localhost:8080/",
          "height": 0
        },
        "outputId": "921bfeae-61f4-4e99-e2a7-7a14a94ddb37"
      },
      "outputs": [
        {
          "output_type": "stream",
          "name": "stdout",
          "text": [
            "0.5242184777847424\n",
            "0.5248664751864571\n"
          ]
        }
      ],
      "source": [
        "X_train = crab_train.drop('age', axis=1)\n",
        "y_train = pd.DataFrame(crab_train['age'])\n",
        "\n",
        "X_test = crab_test.drop('age', axis=1)\n",
        "y_test = pd.DataFrame(crab_test['age'])\n",
        "\n",
        "mult_reg = LinearRegression().fit(X_train, y_train)\n",
        "\n",
        "\n",
        "print(mult_reg.score(X_train, y_train))\n",
        "print(mult_reg.score(X_test, y_test))"
      ]
    },
    {
      "cell_type": "markdown",
      "metadata": {
        "id": "knMibvp7mAHs"
      },
      "source": [
        "**2.9** Perform a multiple  linear regression considering `age` as the response and using all predictors. Comment on the $R^2$ of this model."
      ]
    },
    {
      "cell_type": "code",
      "source": [
        "import pandas as pd\n",
        "from sklearn.linear_model import LinearRegression\n",
        "from sklearn.model_selection import train_test_split\n",
        "from sklearn.impute import SimpleImputer\n",
        "\n",
        "# Assuming your DataFrame is called `df`\n",
        "\n",
        "# Step 1: Encode categorical 'sex' column\n",
        "from sklearn.preprocessing import LabelEncoder\n",
        "label_encoder = LabelEncoder()\n",
        "df['sex'] = label_encoder.fit_transform(df['sex'])  # Encode 'F', 'M', 'I' to numbers\n",
        "\n",
        "\n",
        "X = df.drop('age', axis=1)\n",
        "y = df['age']\n",
        "\n",
        "\n",
        "X_train, X_test, y_train, y_test = train_test_split(X, y, test_size=0.30, random_state=42)\n",
        "\n",
        "\n",
        "\n",
        "mult_reg = LinearRegression()\n",
        "mult_reg.fit(X_train, y_train)\n",
        "\n",
        "print(\"Training R^2:\", mult_reg.score(X_train, y_train))\n",
        "print(\"Testing R^2:\", mult_reg.score(X_test, y_test))\n",
        "\n",
        "print(\"Coefficients:\", mult_reg.coef_)\n",
        "print(\"Intercept:\", mult_reg.intercept_)"
      ],
      "metadata": {
        "colab": {
          "base_uri": "https://localhost:8080/",
          "height": 0
        },
        "id": "OYbL7v4-yXK8",
        "outputId": "6cd10c2f-f0c2-4a90-bed9-80983f3a2c4e"
      },
      "execution_count": 43,
      "outputs": [
        {
          "output_type": "stream",
          "name": "stdout",
          "text": [
            "Training R^2: 0.524344859445568\n",
            "Testing R^2: 0.5253585023629715\n",
            "Coefficients: [ 0.04435622 -1.13636202  6.06033479  4.08308626  0.24624934 -0.64883686\n",
            " -0.25249228  0.41490155]\n",
            "Intercept: 3.0662812156273027\n"
          ]
        }
      ]
    },
    {
      "cell_type": "markdown",
      "metadata": {
        "id": "1xBHkVadQ5Ot"
      },
      "source": [
        "## Section 2 -- Classification"
      ]
    },
    {
      "cell_type": "markdown",
      "metadata": {
        "id": "SIpGTVYkRD9A"
      },
      "source": [
        "**3.** Suppose that a dataset is divided into two equally-sized training and test sets, and then try out two different classification procedures:\n",
        "\n",
        "* The first is the logistic regression, obtaining an error rate of 20% on the training data and 30% on the test data.\n",
        "* The second is a 1-nearest neighbors, with an average error rate (averaged over test and training datasets) of 18%.\n",
        "\n",
        "Based on these results, which method is preferred for classifying new observations? Why?"
      ]
    },
    {
      "cell_type": "markdown",
      "metadata": {
        "id": "r90uejcAmAHs"
      },
      "source": []
    },
    {
      "cell_type": "markdown",
      "metadata": {
        "id": "z0Ws08q_SVLO"
      },
      "source": [
        "**4.** Consider again the crab dataset.\n",
        "The objective now is to predict the `sex` of the crab."
      ]
    },
    {
      "cell_type": "markdown",
      "metadata": {
        "id": "nY3SXuPcmAHs"
      },
      "source": [
        "**4.1** Disregard the records that have an indeterminate sex.\n",
        "Split the data into test and training datasets.\n",
        "Consider a test dataset comprised of 30% of the whole dataset."
      ]
    },
    {
      "cell_type": "code",
      "source": [
        "df = df[df['sex'] != 'I']\n",
        "\n",
        "X = df.drop('sex', axis=1)\n",
        "y = df['sex']\n",
        "\n",
        "X_train, X_test, y_train, y_test = train_test_split(X, y, test_size=0.30, random_state=42)"
      ],
      "metadata": {
        "id": "ro7WMJUmpe__"
      },
      "execution_count": 18,
      "outputs": []
    },
    {
      "cell_type": "markdown",
      "metadata": {
        "id": "b2BcqSQcmAHt"
      },
      "source": [
        "**4.2** Train a Logistic Regression model and report the accuracy and confusion matrix for the test set."
      ]
    },
    {
      "cell_type": "code",
      "execution_count": 19,
      "metadata": {
        "id": "9f5X3wlUmAHt",
        "colab": {
          "base_uri": "https://localhost:8080/",
          "height": 0
        },
        "outputId": "7eb35a1a-10f0-49dd-b6da-955450c524b9"
      },
      "outputs": [
        {
          "output_type": "stream",
          "name": "stdout",
          "text": [
            "Accuracy 0.5601503759398496\n",
            "[[107 269]\n",
            " [ 82 340]]\n"
          ]
        }
      ],
      "source": [
        "from sklearn.linear_model import LogisticRegression\n",
        "from sklearn.metrics import confusion_matrix, accuracy_score\n",
        "\n",
        "log_reg = LogisticRegression(random_state=42)\n",
        "log_reg.fit(X_train, y_train)\n",
        "\n",
        "y_pred1 = log_reg.predict(X_test)\n",
        "\n",
        "accuracy1 = accuracy_score(y_test, y_pred1)\n",
        "print(\"Accuracy\", accuracy1)\n",
        "\n",
        "cm1 = confusion_matrix(y_test, y_pred1)\n",
        "print(cm1)"
      ]
    },
    {
      "cell_type": "markdown",
      "metadata": {
        "id": "mVs-oY-bmAHt"
      },
      "source": [
        "**4.3** Train a Linear Discriminant Analysis (LDA) model and report the accuracy and confusion matrix for the test set."
      ]
    },
    {
      "cell_type": "code",
      "source": [
        "from sklearn.discriminant_analysis import LinearDiscriminantAnalysis\n",
        "\n",
        "clf = LinearDiscriminantAnalysis().fit(X_train, y_train)\n",
        "\n",
        "y_pred2 = clf.predict(X_test)\n",
        "\n",
        "accuracy2 = accuracy_score(y_test, y_pred2)\n",
        "print(\"Accuracy\", accuracy2)\n",
        "\n",
        "cm2 = confusion_matrix(y_test, y_pred2)\n",
        "print(cm2)"
      ],
      "metadata": {
        "id": "iJSmSXeqsq5X",
        "colab": {
          "base_uri": "https://localhost:8080/",
          "height": 0
        },
        "outputId": "6ab5ff87-69d7-45dd-c7ad-6dd39824a91b"
      },
      "execution_count": 21,
      "outputs": [
        {
          "output_type": "stream",
          "name": "stdout",
          "text": [
            "Accuracy 0.5626566416040101\n",
            "[[112 264]\n",
            " [ 85 337]]\n"
          ]
        }
      ]
    },
    {
      "cell_type": "markdown",
      "metadata": {
        "id": "0bfJNOAtmAHx"
      },
      "source": [
        "**4.4** Train a Nearest Neighbors model. Describe and implement an approach to choose the number of neighbors. Report the accuracy and confusion matrix for the test set."
      ]
    },
    {
      "cell_type": "code",
      "execution_count": 23,
      "metadata": {
        "id": "XhTyeUV9mAHx",
        "colab": {
          "base_uri": "https://localhost:8080/",
          "height": 0
        },
        "outputId": "b7b37256-3359-4831-81a8-a0f26de5cc15"
      },
      "outputs": [
        {
          "output_type": "stream",
          "name": "stdout",
          "text": [
            "Best k: 9\n",
            "Best cross-validated accuracy: 0.5343639193980801\n",
            "Accuracy 0.5275689223057645\n",
            "[[157 219]\n",
            " [158 264]]\n"
          ]
        },
        {
          "output_type": "stream",
          "name": "stderr",
          "text": [
            "/usr/local/lib/python3.10/dist-packages/numpy/ma/core.py:2820: RuntimeWarning: invalid value encountered in cast\n",
            "  _data = np.array(data, dtype=dtype, copy=copy,\n"
          ]
        }
      ],
      "source": [
        "from sklearn.neighbors import KNeighborsClassifier\n",
        "from sklearn.model_selection import GridSearchCV\n",
        "\n",
        "param_grid = {'n_neighbors': range(1, 21)}\n",
        "\n",
        "grid_search = GridSearchCV(KNeighborsClassifier(), param_grid, cv=5, scoring='accuracy')\n",
        "grid_search.fit(X_train, y_train)\n",
        "\n",
        "best_k = grid_search.best_params_['n_neighbors']\n",
        "print(f\"Best k: {best_k}\")\n",
        "print(f\"Best cross-validated accuracy: {grid_search.best_score_}\")\n",
        "\n",
        "best_knn = grid_search.best_estimator_\n",
        "y_pred3 = best_knn.predict(X_test)\n",
        "\n",
        "accuracy3 = accuracy_score(y_test, y_pred3)\n",
        "print(\"Accuracy\", accuracy3)\n",
        "\n",
        "cm3 = confusion_matrix(y_test, y_pred3)\n",
        "print(cm3)\n"
      ]
    },
    {
      "cell_type": "markdown",
      "source": [
        "To choose the number of neighbors (k) for a Nearest Neighbors model, we can use cross-validation to evaluate the performance of the model for different values of k, as well as using Grid Search to find the optimal values. Usually, we aim to stay away from k=1 beacuse it will lead to overfitting, and we try to inrease the number of neighbours gradually and carfully so we don't underfit."
      ],
      "metadata": {
        "id": "RtqFm28GvM3m"
      }
    },
    {
      "cell_type": "markdown",
      "metadata": {
        "id": "N2M5ZJTImAHx"
      },
      "source": [
        "**4.5** Plot the ROC curve and calculate the area under curve (AUC) for each model you trained. Comment on the results."
      ]
    },
    {
      "cell_type": "code",
      "execution_count": 26,
      "metadata": {
        "id": "LE1j93VDmAHy",
        "colab": {
          "base_uri": "https://localhost:8080/",
          "height": 507
        },
        "outputId": "45206907-dd66-4904-e0a3-ec73f5498e4a"
      },
      "outputs": [
        {
          "output_type": "stream",
          "name": "stdout",
          "text": [
            "model 1 AUC score: 0.6015869214480185\n",
            "model 2 AUC score: 0.60203438539881\n",
            "model 3 AUC score: 0.5304811182817383\n"
          ]
        },
        {
          "output_type": "display_data",
          "data": {
            "text/plain": [
              "<Figure size 640x480 with 1 Axes>"
            ],
            "image/png": "[encoded data removed]"
          },
          "metadata": {}
        }
      ],
      "source": [
        "from sklearn.metrics import roc_curve, roc_auc_score\n",
        "\n",
        "y_pred_proba1 = log_reg.predict_proba(X_test)\n",
        "print(\"model 1 AUC score:\", roc_auc_score(y_test, y_pred_proba1[:, 1]))\n",
        "y_pred_proba2 = clf.predict_proba(X_test)\n",
        "print(\"model 2 AUC score:\", roc_auc_score(y_test, y_pred_proba2[:, 1]))\n",
        "y_pred_proba3 = best_knn.predict_proba(X_test)\n",
        "print(\"model 3 AUC score:\", roc_auc_score(y_test, y_pred_proba3[:, 1]))\n",
        "\n",
        "y_test_encoded = y_test.map({'F': 0, 'M': 1})\n",
        "\n",
        "fpr1, tpr1, thresholds1 = roc_curve(y_test_encoded, y_pred_proba1[:,1])\n",
        "fpr2, tpr2, thresholds2 = roc_curve(y_test_encoded, y_pred_proba2[:,1])\n",
        "fpr3, tpr3, thresholds3 = roc_curve(y_test_encoded, y_pred_proba3[:,1])\n",
        "\n",
        "plt.plot(fpr1, tpr1)\n",
        "plt.plot(fpr2, tpr2)\n",
        "plt.plot(fpr3, tpr3)\n",
        "\n",
        "plt.plot([0, 1], [0, 1], linestyle='--')\n",
        "plt.xlim([0.0, 1.0])\n",
        "plt.ylim([0.0, 1.0])\n",
        "plt.xlabel('1 - specificity')\n",
        "plt.ylabel('sensitivity')\n",
        "plt.show()"
      ]
    },
    {
      "cell_type": "markdown",
      "metadata": {
        "id": "jaumf4uQmAHy"
      },
      "source": [
        "**4.6** A considerable part of the crab records in the dataset do not have a determined sex.\n",
        "How can you build a model that makes a prediction of the sex for these records?\n",
        "Describe every step of your approach."
      ]
    },
    {
      "cell_type": "markdown",
      "source": [
        "1. To build a model that makes a prediction of the sex for these records, we start by seperating the dataset into 2 sets, one where sex is known and the other unknown.\n",
        "2. We then do furthere analysis of the data to see which features are most linked to the sex feature.\n",
        "3. We think the most suitable model for this task would be to train a decision tree model and rank the feautres accourding the their influence.\n",
        "4. Additionally, online search might be helpful to know the relationship beetween for example, age, weight and sex of the crab.\n",
        "5. After decision trees we might consider a forest model if the complexity demanded it"
      ],
      "metadata": {
        "id": "AyRvwTZy1SQp"
      }
    },
    {
      "cell_type": "markdown",
      "metadata": {
        "id": "jEtBKnHni2GT"
      },
      "source": [
        "## Section 3 -- Bootstrap and k-Fold"
      ]
    },
    {
      "cell_type": "markdown",
      "metadata": {
        "id": "AyCSRMx2pDsm"
      },
      "source": [
        "**5.1** Explain how k-fold cross-validation is implemented."
      ]
    },
    {
      "cell_type": "markdown",
      "metadata": {
        "id": "-qboscLCmAHy"
      },
      "source": [
        "1. **Split Data**: Divide the dataset into **k** equal-sized parts (folds).  \n",
        "2. **Iterate k Times**: For each iteration, use one fold as the test set and the remaining **k-1** folds as the training set.  \n",
        "3. **Train and Test**: Train the model on the training folds and evaluate it on the test fold, recording the performance.  \n",
        "4. **Repeat**: Repeat the process until every fold has been used as the test set once.  \n",
        "5. **Aggregate Results**: Average the performance metrics from all iterations to estimate the model's overall performance.  "
      ]
    },
    {
      "cell_type": "markdown",
      "metadata": {
        "id": "MbIethdmpcwr"
      },
      "source": [
        "**5.2** What are the advantages and disadvantages of k-Fold cross-validation relative to:\n",
        "\n",
        "1. Validation set approach.\n",
        "2. Leave One Out Cross-Validation (LOOCV)."
      ]
    },
    {
      "cell_type": "markdown",
      "metadata": {
        "id": "3EUwuHZcmAHy"
      },
      "source": [
        "1. The validation set approach is sensitive to how the data is split into training and validation sets. A poor or unrepresentative split can lead to misleading results. k-fold cross-validation mitigates this issue by averaging performance across multiple splits. A disadvantage would be the increased computational cost.\n",
        "\n",
        "2. k-fold cross-validation, with k folds (for example, k = 5 or k = 10) reduces the number of model training iterations. On the other hand LOOCV uses all of the data, and therefore has a lower bias."
      ]
    },
    {
      "cell_type": "markdown",
      "metadata": {
        "id": "jOcCUxFMpAGw"
      },
      "source": [
        "## Section 4 -- Other Questions"
      ]
    },
    {
      "cell_type": "markdown",
      "metadata": {
        "id": "jUkJU0D7pFWO"
      },
      "source": [
        "**6.** In your group's option, what are the advantages and disadvantages of using a virtual environment when programming in Python?"
      ]
    },
    {
      "cell_type": "markdown",
      "metadata": {
        "id": "W7YKzbtOmAHy"
      },
      "source": [
        "We think the main advantage of venvs is that you can easily reproduce code, if you use the exact same dependencies that are stored within the venv. Systemwide installations of new packages don't affect the dependencies within the venv. A disadvantage would be that there are different copies of the same dependencies, if you use a different venv for each project."
      ]
    },
    {
      "cell_type": "markdown",
      "metadata": {
        "id": "W8dWu7BXpFTc"
      },
      "source": [
        "**7.** In your group's opinion, in what circumstances is it better to use Jupyter Notebooks and when is it better to use Google Colab notebooks? Give some specific examples."
      ]
    },
    {
      "cell_type": "markdown",
      "metadata": {
        "id": "x0dcUJE6mAHz"
      },
      "source": [
        "I think it is better to use Google Colab when you want to train a computationally complex network, if you don't want to load your CPU with it. Also it allows for running multiple models at once, without multithreading. A big disadvantage of Google Colab is the dependency of internet connection. If you don't have a stable connection and your program loses connection to the kernel, all your training progress might be lost. In that sense, Jup Notebooks is more robust."
      ]
    },
    {
      "cell_type": "markdown",
      "metadata": {
        "id": "Sl0krfG6pFH6"
      },
      "source": [
        "**8.** Enter your GitHub repository webpage."
      ]
    },
    {
      "cell_type": "code",
      "execution_count": 44,
      "metadata": {
        "id": "g_h5t6NBmAHz",
        "colab": {
          "base_uri": "https://localhost:8080/",
          "height": 106
        },
        "outputId": "e60c73eb-a959-4502-f826-aa6d42a9c15d"
      },
      "outputs": [
        {
          "output_type": "error",
          "ename": "SyntaxError",
          "evalue": "invalid syntax (<ipython-input-44-8f363996750b>, line 1)",
          "traceback": [
            "\u001b[0;36m  File \u001b[0;32m\"<ipython-input-44-8f363996750b>\"\u001b[0;36m, line \u001b[0;32m1\u001b[0m\n\u001b[0;31m    https://github.com/magicomartino/AAvance_ass1.git\u001b[0m\n\u001b[0m          ^\u001b[0m\n\u001b[0;31mSyntaxError\u001b[0m\u001b[0;31m:\u001b[0m invalid syntax\n"
          ]
        }
      ],
      "source": [
        "https://github.com/magicomartino/AAvance_ass1.git"
      ]
    }
  ],
  "metadata": {
    "colab": {
      "provenance": []
    },
    "kernelspec": {
      "display_name": "Python 3 (ipykernel)",
      "language": "python",
      "name": "python3"
    },
    "language_info": {
      "codemirror_mode": {
        "name": "ipython",
        "version": 3
      },
      "file_extension": ".py",
      "mimetype": "text/x-python",
      "name": "python",
      "nbconvert_exporter": "python",
      "pygments_lexer": "ipython3",
      "version": "3.11.10"
    }
  },
  "nbformat": 4,
  "nbformat_minor": 0
}